{
 "cells": [
  {
   "cell_type": "code",
   "execution_count": null,
   "id": "226be580-d915-499c-86cf-91be955e4450",
   "metadata": {},
   "outputs": [],
   "source": [
    "import random\n",
    "\n",
    "class NakliLLM:\n",
    "    def __init__(self):\n",
    "        print('LLM Created')\n",
    "    def predict(self,prompt):\n",
    "        response_list = [\n",
    "            'Delhi is the Capital of India',\n",
    "            'AI Stands for Aritficial Intelligence',\n",
    "            'STMicroelectronics is a Semiconductor Manufcturing Company'\n",
    "        ]\n",
    "        return {'response':random.choice(response_list)}"
   ]
  },
  {
   "cell_type": "code",
   "execution_count": 19,
   "id": "5a6b8497-f769-4a29-994b-08e8575fa244",
   "metadata": {},
   "outputs": [
    {
     "name": "stdout",
     "output_type": "stream",
     "text": [
      "LLM Created\n"
     ]
    }
   ],
   "source": [
    "llm = NakliLLM()"
   ]
  },
  {
   "cell_type": "code",
   "execution_count": 21,
   "id": "22c16487-f53c-45ad-89b6-665716f77195",
   "metadata": {},
   "outputs": [
    {
     "data": {
      "text/plain": [
       "{'response': 'Delhi is the Capital of India'}"
      ]
     },
     "execution_count": 21,
     "metadata": {},
     "output_type": "execute_result"
    }
   ],
   "source": [
    "llm.predict('What is the Capital of India?')"
   ]
  },
  {
   "cell_type": "code",
   "execution_count": 25,
   "id": "9838aeb4-355a-41c6-8cf4-cbb139e07038",
   "metadata": {},
   "outputs": [],
   "source": [
    "class NakliPromptTempelate:\n",
    "    def __init__(self,tempelate,input_variables):\n",
    "        self.tempelate = tempelate\n",
    "        self.input_variables = input_variables\n",
    "\n",
    "    def format(self,input_dict):\n",
    "        return self.tempelate.format(**input_dict)"
   ]
  },
  {
   "cell_type": "code",
   "execution_count": 28,
   "id": "6356fbe9-28e1-4b69-8ad9-3510492eb7d0",
   "metadata": {},
   "outputs": [],
   "source": [
    "template = NakliPromptTempelate(\n",
    "    tempelate='Write a {length} poem about {topic}',\n",
    "    input_variables=['length','topic']\n",
    ")"
   ]
  },
  {
   "cell_type": "code",
   "execution_count": 30,
   "id": "f53c000c-bcfe-4b15-a74a-7cb33a6eba66",
   "metadata": {},
   "outputs": [],
   "source": [
    "prompt = template.format({'length':'short','topic':'India'})"
   ]
  },
  {
   "cell_type": "code",
   "execution_count": 31,
   "id": "e7300734-da33-4184-bae3-ad67b78e12b7",
   "metadata": {},
   "outputs": [
    {
     "name": "stdout",
     "output_type": "stream",
     "text": [
      "LLM Created\n"
     ]
    }
   ],
   "source": [
    "llm1 = NakliLLM()"
   ]
  },
  {
   "cell_type": "code",
   "execution_count": 32,
   "id": "0b6ff4a3-6d6f-4c73-aca0-936de87a73eb",
   "metadata": {},
   "outputs": [
    {
     "data": {
      "text/plain": [
       "{'response': 'Delhi is the Capital of India'}"
      ]
     },
     "execution_count": 32,
     "metadata": {},
     "output_type": "execute_result"
    }
   ],
   "source": [
    "llm1.predict(prompt)"
   ]
  },
  {
   "cell_type": "code",
   "execution_count": 33,
   "id": "bdaa3fe0-69bb-4a99-b2d8-17f1998939b8",
   "metadata": {},
   "outputs": [],
   "source": [
    "class NakliLLMChain:\n",
    "    def __init__(self,llm,prompt):\n",
    "        self.llm = llm\n",
    "        self.prompt = prompt\n",
    "    def run(self,input_dict):\n",
    "        tempelate = self,prompt.format(input_dict)\n",
    "        output = self.llm.predict(tempelate)\n",
    "        return output\n"
   ]
  },
  {
   "cell_type": "code",
   "execution_count": 34,
   "id": "7403a269-e664-4aa8-bb62-2111af3636e6",
   "metadata": {},
   "outputs": [],
   "source": [
    "chain = NakliLLMChain(llm,prompt)"
   ]
  },
  {
   "cell_type": "code",
   "execution_count": 35,
   "id": "90503f35-82fc-4e0a-a4ae-2943d75eff64",
   "metadata": {},
   "outputs": [
    {
     "data": {
      "text/plain": [
       "{'response': 'STMicroelectronics is a Semiconductor Manufcturing Company'}"
      ]
     },
     "execution_count": 35,
     "metadata": {},
     "output_type": "execute_result"
    }
   ],
   "source": [
    "chain.run({'topic':'India', 'length':'short'})"
   ]
  },
  {
   "cell_type": "markdown",
   "id": "d60fa836-fc25-4549-bac1-4f3f8749802a",
   "metadata": {},
   "source": [
    "# Making them flexible"
   ]
  },
  {
   "cell_type": "code",
   "execution_count": 67,
   "id": "4f2a8b24-1b9d-462c-8c31-99e3c4b4e0a5",
   "metadata": {},
   "outputs": [],
   "source": [
    "from abc import ABC, abstractmethod"
   ]
  },
  {
   "cell_type": "code",
   "execution_count": 68,
   "id": "de9a0742-d6df-43cf-8d9a-d87d008b5923",
   "metadata": {},
   "outputs": [],
   "source": [
    "class Runnable(ABC):\n",
    "\n",
    "  @abstractmethod\n",
    "  def invoke(self,input_data):\n",
    "    pass"
   ]
  },
  {
   "cell_type": "code",
   "execution_count": 69,
   "id": "62c39f10-b765-42af-bd59-d351c8d4ab17",
   "metadata": {},
   "outputs": [],
   "source": [
    "import random\n",
    "\n",
    "class NakliLLM(Runnable):\n",
    "\n",
    "  def __init__(self):\n",
    "    print('LLM created')\n",
    "\n",
    "  def invoke(self, prompt):\n",
    "    response_list = [\n",
    "        'Delhi is the capital of India',\n",
    "        'IPL is a cricket league',\n",
    "        'AI stands for Artificial Intelligence'\n",
    "    ]\n",
    "\n",
    "    return {'response': random.choice(response_list)}\n",
    "\n",
    "\n",
    "  def predict(self, prompt):\n",
    "\n",
    "    response_list = [\n",
    "        'Delhi is the capital of India',\n",
    "        'IPL is a cricket league',\n",
    "        'AI stands for Artificial Intelligence'\n",
    "    ]\n",
    "\n",
    "    return {'response': random.choice(response_list)}"
   ]
  },
  {
   "cell_type": "code",
   "execution_count": 75,
   "id": "f666af13-e4cf-4e68-a175-54e6f1a70411",
   "metadata": {},
   "outputs": [
    {
     "name": "stdout",
     "output_type": "stream",
     "text": [
      "LLM created\n"
     ]
    }
   ],
   "source": [
    "llm = NakliLLM()"
   ]
  },
  {
   "cell_type": "code",
   "execution_count": 76,
   "id": "9d364c89-4fcd-44c3-bcc8-656dbf758dd0",
   "metadata": {},
   "outputs": [],
   "source": [
    "class NakliPromptTemplate(Runnable):\n",
    "\n",
    "  def __init__(self, template, input_variables):\n",
    "    self.template = template\n",
    "    self.input_variables = input_variables\n",
    "\n",
    "  def invoke(self, input_dict):\n",
    "    return self.template.format(**input_dict)\n",
    "\n",
    "  def format(self, input_dict):\n",
    "    return self.template.format(**input_dict)"
   ]
  },
  {
   "cell_type": "code",
   "execution_count": 81,
   "id": "366c97ee-015e-432f-847b-16345a96b76e",
   "metadata": {},
   "outputs": [],
   "source": [
    "class NakliStrOutputParser(Runnable):\n",
    "\n",
    "  def __init__(self):\n",
    "    pass\n",
    "\n",
    "  def invoke(self, input_data):\n",
    "    return input_data['response']"
   ]
  },
  {
   "cell_type": "code",
   "execution_count": 82,
   "id": "bb4ef2f4-3b03-4431-af4e-1316cc31156e",
   "metadata": {},
   "outputs": [],
   "source": [
    "parser = NakliStrOutputParser()"
   ]
  },
  {
   "cell_type": "code",
   "execution_count": 77,
   "id": "c99fda53-4c8e-4abb-ab39-7b6ef95e1021",
   "metadata": {},
   "outputs": [],
   "source": [
    "template = NakliPromptTemplate(\n",
    "    template='Write a {length} poem about {topic}',\n",
    "    input_variables=['length', 'topic']\n",
    ")"
   ]
  },
  {
   "cell_type": "code",
   "execution_count": 78,
   "id": "0c6dbcd0-da0a-463c-aedf-e85e37f97f39",
   "metadata": {},
   "outputs": [],
   "source": [
    "class RunnableConnector(Runnable):\n",
    "\n",
    "  def __init__(self, runnable_list):\n",
    "    self.runnable_list = runnable_list\n",
    "\n",
    "  def invoke(self, input_data):\n",
    "\n",
    "    for runnable in self.runnable_list:\n",
    "      input_data = runnable.invoke(input_data)\n",
    "\n",
    "    return input_data"
   ]
  },
  {
   "cell_type": "code",
   "execution_count": 83,
   "id": "48bd496f-91cb-4e9f-aa93-75cce57e4f7b",
   "metadata": {},
   "outputs": [],
   "source": [
    "chain = RunnableConnector([template,llm,parser])"
   ]
  },
  {
   "cell_type": "code",
   "execution_count": 84,
   "id": "d71e8a71-0e68-4dca-8f64-e8b25a84da30",
   "metadata": {},
   "outputs": [
    {
     "data": {
      "text/plain": [
       "'AI stands for Artificial Intelligence'"
      ]
     },
     "execution_count": 84,
     "metadata": {},
     "output_type": "execute_result"
    }
   ],
   "source": [
    "chain.invoke({'length':'short','topic':'India'})"
   ]
  },
  {
   "cell_type": "markdown",
   "id": "e8d49a7e-391c-4f37-b22b-769b627fa93d",
   "metadata": {},
   "source": [
    "# Chaining Multiple chains together"
   ]
  },
  {
   "cell_type": "code",
   "execution_count": 85,
   "id": "0d0b90bf-2c8f-485e-9800-4f73c8151951",
   "metadata": {},
   "outputs": [],
   "source": [
    "template1 = NakliPromptTemplate(\n",
    "    template='Write a joke about {topic}',\n",
    "    input_variables=['topic']\n",
    ")"
   ]
  },
  {
   "cell_type": "code",
   "execution_count": 86,
   "id": "89b4dfec-225b-4409-89b6-119b28c3893d",
   "metadata": {},
   "outputs": [],
   "source": [
    "template2 = NakliPromptTemplate(\n",
    "    template='Explain the following joke {response}',\n",
    "    input_variables=['response']\n",
    ")"
   ]
  },
  {
   "cell_type": "code",
   "execution_count": 87,
   "id": "3ad58c17-e839-451a-a665-93336eae5b9a",
   "metadata": {},
   "outputs": [
    {
     "name": "stdout",
     "output_type": "stream",
     "text": [
      "LLM created\n"
     ]
    }
   ],
   "source": [
    "llm = NakliLLM()"
   ]
  },
  {
   "cell_type": "code",
   "execution_count": 88,
   "id": "0d73378c-4352-4af8-bd12-4185e11dc688",
   "metadata": {},
   "outputs": [],
   "source": [
    "parser = NakliStrOutputParser()"
   ]
  },
  {
   "cell_type": "code",
   "execution_count": 89,
   "id": "92eb3a66-1b9b-4c41-807e-bd8d4584ce6b",
   "metadata": {},
   "outputs": [],
   "source": [
    "chain1 = RunnableConnector([template1, llm])"
   ]
  },
  {
   "cell_type": "code",
   "execution_count": 90,
   "id": "e1748065-bce0-4747-8f2a-6e940b3f7c0e",
   "metadata": {},
   "outputs": [],
   "source": [
    "chain2 = RunnableConnector([template2, llm, parser])"
   ]
  },
  {
   "cell_type": "code",
   "execution_count": 91,
   "id": "44a27518-dc35-40fb-9321-2a9851da1882",
   "metadata": {},
   "outputs": [],
   "source": [
    "final_chain = RunnableConnector([chain1, chain2])"
   ]
  },
  {
   "cell_type": "code",
   "execution_count": 92,
   "id": "c9193ba5-d026-494f-804f-bb4dcc8163a3",
   "metadata": {},
   "outputs": [
    {
     "data": {
      "text/plain": [
       "'AI stands for Artificial Intelligence'"
      ]
     },
     "execution_count": 92,
     "metadata": {},
     "output_type": "execute_result"
    }
   ],
   "source": [
    "final_chain.invoke({'topic':'cricket'})"
   ]
  },
  {
   "cell_type": "code",
   "execution_count": null,
   "id": "9599cf9c-4355-47f9-94aa-49a8d1558f27",
   "metadata": {},
   "outputs": [],
   "source": []
  }
 ],
 "metadata": {
  "kernelspec": {
   "display_name": "Python 3 (ipykernel)",
   "language": "python",
   "name": "python3"
  },
  "language_info": {
   "codemirror_mode": {
    "name": "ipython",
    "version": 3
   },
   "file_extension": ".py",
   "mimetype": "text/x-python",
   "name": "python",
   "nbconvert_exporter": "python",
   "pygments_lexer": "ipython3",
   "version": "3.11.7"
  }
 },
 "nbformat": 4,
 "nbformat_minor": 5
}
